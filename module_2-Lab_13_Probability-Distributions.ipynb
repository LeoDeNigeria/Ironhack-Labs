{
 "cells": [
  {
   "cell_type": "markdown",
   "metadata": {},
   "source": [
    "# Before your start:\n",
    "- Read the README.md file.\n",
    "- Comment as much as you can and use the resources (README.md file).\n",
    "- Happy learning!"
   ]
  },
  {
   "cell_type": "code",
   "execution_count": 1,
   "metadata": {},
   "outputs": [],
   "source": [
    "# Libraries\n",
    "import pandas as pd\n",
    "import numpy as np\n",
    "import matplotlib.pyplot as plt\n",
    "import scipy.stats as stats\n",
    "import statistics"
   ]
  },
  {
   "cell_type": "markdown",
   "metadata": {},
   "source": [
    "# Challenge 1 - Generate and Plot Normal Distributions\n",
    "#### Step 1: Generate samples and test normal distribution.\n",
    "\n",
    "Use mean=50, standard_deviation=5, and sample_size=[10, 50, 500, 5000] to generate 4 random samples that are normally distributed.\n",
    "\n",
    "**Hint**: Read the documentation for `scipy.stats.norm.rvs`. The function will help you create the normal random samples."
   ]
  },
  {
   "cell_type": "code",
   "execution_count": 2,
   "metadata": {},
   "outputs": [],
   "source": [
    "# your code here\n",
    "mean= 50\n",
    "standard_devaition=5\n",
    "sample_size=[10,50,500,5000]\n",
    "sample1 = stats.norm.rvs(loc = mean, scale = standard_devaition, size = sample_size[0])"
   ]
  },
  {
   "cell_type": "code",
   "execution_count": 4,
   "metadata": {},
   "outputs": [
    {
     "data": {
      "text/plain": [
       "array([47.57023075, 45.93514677, 45.51186809, 43.80661261, 55.77672316,\n",
       "       56.91518318, 53.69822535, 52.07113729, 54.14243733, 54.50966585])"
      ]
     },
     "execution_count": 4,
     "metadata": {},
     "output_type": "execute_result"
    }
   ],
   "source": [
    "sample1 = stats.norm.rvs(loc = mean, scale = standard_devaition, size = sample_size[0])\n",
    "sample1"
   ]
  },
  {
   "cell_type": "code",
   "execution_count": 6,
   "metadata": {},
   "outputs": [
    {
     "data": {
      "text/plain": [
       "array([48.24917018, 50.3388129 , 48.29138755, 45.79992129, 51.35295839,\n",
       "       53.79229886, 49.80249219, 52.5216932 , 59.65849041, 50.37288963,\n",
       "       50.30281085, 51.57115914, 51.22983411, 49.93454991, 44.4349208 ,\n",
       "       52.05557212, 55.61748021, 51.54984125, 47.25867243, 48.4300238 ,\n",
       "       50.88362449, 49.21432829, 49.59680558, 47.40569222, 42.82635134,\n",
       "       52.60710157, 44.39836844, 44.25508686, 52.35618024, 46.77219133,\n",
       "       52.00023087, 52.5977455 , 53.80451711, 49.41088952, 47.08636316,\n",
       "       47.12975273, 46.09251918, 61.64473136, 49.15852391, 57.31786916,\n",
       "       43.52146988, 47.26522647, 47.93109054, 52.46565686, 53.83333408,\n",
       "       51.38993494, 47.93113528, 51.50701522, 48.32491497, 55.53626738])"
      ]
     },
     "execution_count": 6,
     "metadata": {},
     "output_type": "execute_result"
    }
   ],
   "source": [
    "sample2 = stats.norm.rvs(loc = mean, scale = standard_devaition, size = sample_size[1])\n",
    "sample2"
   ]
  },
  {
   "cell_type": "code",
   "execution_count": 7,
   "metadata": {},
   "outputs": [
    {
     "data": {
      "text/plain": [
       "array([57.16749925, 50.84913645, 43.09337029, 46.84851688, 51.34082308,\n",
       "       50.52495365, 50.33540468, 52.1342538 , 46.58619286, 47.54464817,\n",
       "       58.8417879 , 44.11996788, 44.86435974, 53.82637272, 52.99222039,\n",
       "       45.04641596, 50.33955474, 50.60734762, 56.5256168 , 43.83838051,\n",
       "       41.35483104, 57.6309225 , 55.78336528, 58.34156356, 51.30805693,\n",
       "       49.68681732, 44.2692914 , 47.62729824, 54.67110112, 47.99938662,\n",
       "       47.94870105, 43.5559862 , 58.91320637, 50.74250419, 42.46637138,\n",
       "       50.86622105, 39.1725155 , 45.95455652, 48.48593095, 50.12347538,\n",
       "       59.30984578, 37.08100725, 43.02805837, 53.94529457, 44.84572753,\n",
       "       48.32098063, 47.91085629, 49.83874291, 45.77151586, 52.58006906,\n",
       "       58.56107457, 50.92930436, 49.94408983, 43.34580473, 51.84742452,\n",
       "       51.22199212, 45.72814089, 43.39185895, 47.70163486, 60.3463429 ,\n",
       "       55.01077935, 48.83995216, 50.91824092, 46.75706196, 45.22745117,\n",
       "       59.68678188, 47.39892915, 49.3917299 , 52.48221664, 46.02935658,\n",
       "       58.36696691, 49.17991881, 45.65366273, 50.70196128, 46.53336653,\n",
       "       49.43215111, 54.49778209, 41.91147067, 52.92395383, 50.44423717,\n",
       "       52.34045272, 43.10552582, 40.48186255, 54.96877818, 39.47879491,\n",
       "       53.71256827, 49.89727455, 40.15728484, 51.27095607, 42.48684409,\n",
       "       53.8744578 , 56.04219832, 44.71194699, 47.44589369, 54.3503887 ,\n",
       "       55.71997875, 43.68896799, 49.42448508, 44.37720476, 50.53859435,\n",
       "       62.80132293, 55.96917408, 46.13313179, 49.34449162, 50.12701639,\n",
       "       45.25391284, 47.38032507, 60.76333076, 52.73748274, 39.96182149,\n",
       "       50.99182587, 52.40869529, 49.5831924 , 48.77693249, 48.93056422,\n",
       "       49.68965639, 49.41738727, 53.8146415 , 51.87584765, 44.8085067 ,\n",
       "       39.51925335, 49.7448362 , 47.15467208, 53.12039587, 52.67694122,\n",
       "       63.35408668, 49.99368301, 55.23079758, 62.35905927, 42.50760387,\n",
       "       43.38833973, 52.24590099, 46.6466938 , 48.52081879, 47.3963573 ,\n",
       "       50.94832319, 52.09452076, 45.83758949, 53.70795621, 51.97740906,\n",
       "       48.71449745, 47.33166355, 54.32354873, 52.35813351, 49.05308229,\n",
       "       48.13915783, 51.34073868, 52.81750304, 46.12978766, 47.0467605 ,\n",
       "       46.03152627, 44.26552615, 46.64080313, 52.37636761, 52.20411592,\n",
       "       56.45279765, 51.5867883 , 47.59029913, 50.28156278, 54.86469211,\n",
       "       49.50089747, 50.53850989, 48.47406888, 44.18263871, 51.1836141 ,\n",
       "       51.24899837, 45.97540748, 36.82855432, 43.08477334, 48.01624502,\n",
       "       51.42955328, 51.93763237, 42.4668844 , 50.46332952, 49.16653545,\n",
       "       45.17044109, 58.22260266, 53.95205192, 45.00160532, 41.44653735,\n",
       "       59.03862588, 46.20516224, 48.04923454, 39.39626558, 50.00776591,\n",
       "       49.67324724, 48.44844134, 42.90214753, 41.02437862, 47.81484008,\n",
       "       50.48857861, 51.39389604, 43.89096007, 51.5086712 , 45.35914104,\n",
       "       58.71146161, 48.56686637, 48.28881333, 47.38608418, 56.13505655,\n",
       "       54.44999939, 46.72724782, 42.633774  , 46.91941708, 51.16091321,\n",
       "       44.42699901, 50.93378907, 50.36617474, 49.27310469, 51.4044188 ,\n",
       "       49.3389298 , 52.09973915, 61.61069389, 56.5363442 , 42.32707898,\n",
       "       48.93359536, 53.54308383, 45.11203029, 47.03400072, 43.56359341,\n",
       "       51.38516605, 47.11631388, 49.07340858, 53.33358885, 53.53534898,\n",
       "       42.31343868, 52.63458662, 49.00265882, 48.74908301, 54.22261155,\n",
       "       52.04162238, 51.2680395 , 51.81453296, 44.87348815, 47.13040301,\n",
       "       57.43799631, 47.07600822, 46.37251055, 51.93637875, 37.00527059,\n",
       "       56.03862009, 45.64908338, 48.65407699, 55.19490022, 55.98164935,\n",
       "       49.31341994, 47.77504391, 42.14139875, 51.50212231, 47.82358641,\n",
       "       41.47355158, 54.57716206, 52.5588005 , 59.59573527, 54.69165312,\n",
       "       44.93433843, 45.52507951, 45.65267373, 51.77447219, 53.36339184,\n",
       "       49.92294949, 49.29757087, 49.32530582, 51.94819853, 58.85629979,\n",
       "       51.17892492, 52.02206362, 53.58084543, 43.97755656, 49.76266006,\n",
       "       47.6882296 , 54.66714295, 56.63561893, 55.00289406, 54.40717826,\n",
       "       47.52649257, 49.21386618, 43.3256186 , 52.03718596, 54.71926621,\n",
       "       48.52943933, 59.7894788 , 46.07238327, 47.57032763, 54.55614782,\n",
       "       51.37379789, 47.16248715, 49.16427952, 49.07106791, 54.57265308,\n",
       "       50.69125859, 51.67641086, 55.91813751, 50.72452448, 54.89502438,\n",
       "       49.27904944, 55.09765499, 43.8468835 , 50.46608503, 50.99300812,\n",
       "       49.41210267, 52.06213307, 50.78564167, 47.99400163, 48.8126499 ,\n",
       "       49.78235666, 45.91544204, 57.74082877, 49.61938899, 47.38044008,\n",
       "       56.96839965, 49.47676536, 58.72924182, 47.82167818, 48.65846385,\n",
       "       43.52860006, 50.94336105, 52.7516161 , 44.62124351, 51.89798012,\n",
       "       52.77668756, 49.83095958, 51.67227842, 45.04823583, 44.40537847,\n",
       "       44.32241823, 56.62226978, 48.84279367, 49.99292926, 48.83888035,\n",
       "       58.23462197, 57.26215641, 50.82081303, 48.09746067, 54.75170057,\n",
       "       46.92469714, 44.37327649, 53.7611905 , 46.63545087, 61.07458256,\n",
       "       56.42866911, 49.14937455, 50.83355304, 51.63632022, 50.39942373,\n",
       "       45.14551689, 46.94297801, 51.21175871, 49.30660349, 47.15313027,\n",
       "       41.6916902 , 52.13683332, 57.37907148, 49.01489781, 50.76569887,\n",
       "       45.48469722, 50.6175876 , 49.28361056, 54.64910165, 42.86237754,\n",
       "       50.73658148, 53.44495184, 43.9094301 , 53.05137408, 52.47899477,\n",
       "       56.62937641, 39.33086744, 54.6062094 , 40.83988187, 52.09747528,\n",
       "       54.83345196, 47.27966415, 53.82741979, 52.66954394, 43.52203929,\n",
       "       50.84430027, 52.97680382, 61.35228009, 47.62752741, 51.68167875,\n",
       "       45.98213488, 59.5998532 , 43.61296421, 50.70928014, 44.63635865,\n",
       "       39.98958964, 55.04981367, 55.25024338, 49.17688114, 48.57648679,\n",
       "       53.66752151, 48.16321908, 45.33478178, 50.78019268, 55.18125472,\n",
       "       46.2116341 , 60.01587678, 52.71218394, 58.86611917, 44.01260566,\n",
       "       52.33436083, 51.48530196, 46.00558867, 43.54744323, 46.81553463,\n",
       "       57.48790717, 47.19227977, 50.00567855, 56.57229505, 50.77896006,\n",
       "       57.76420802, 58.45005355, 45.30606606, 53.61385031, 49.12481876,\n",
       "       49.73237576, 38.19635003, 43.06436901, 47.59681689, 44.90696889,\n",
       "       55.95280238, 49.00867644, 41.3828209 , 43.67466366, 54.2375774 ,\n",
       "       41.40791017, 49.95310472, 48.43226262, 52.73524411, 53.69672734,\n",
       "       42.94276937, 48.17860278, 56.10457872, 46.86394157, 47.5425776 ,\n",
       "       44.72579539, 53.670487  , 56.56116427, 42.22505956, 54.72293975,\n",
       "       40.52261826, 55.99519999, 52.79838502, 42.80442233, 47.10024614,\n",
       "       44.67001241, 61.25872914, 48.25036152, 49.04171794, 50.42545677,\n",
       "       48.91035364, 54.59551383, 51.75101088, 42.95900782, 41.29775318,\n",
       "       54.20088504, 49.28940872, 35.82343055, 59.82610547, 56.90788367,\n",
       "       49.90588547, 41.52181371, 44.03185238, 50.46661363, 54.58457258,\n",
       "       51.35939657, 53.79004773, 55.1219594 , 49.77209218, 54.21333412,\n",
       "       48.46430197, 49.14551921, 48.24285379, 41.45053852, 50.43945183,\n",
       "       46.39767136, 38.88964114, 45.23022803, 58.62140241, 49.92181637,\n",
       "       49.76697546, 52.54929637, 58.64591252, 46.70873482, 44.13595056,\n",
       "       44.36542593, 57.22128088, 49.39326494, 52.55012993, 50.17992702,\n",
       "       57.58663607, 41.02977727, 47.47166089, 46.10514867, 48.14665781,\n",
       "       46.23313624, 49.11488092, 44.09599988, 56.09608426, 43.57688432])"
      ]
     },
     "execution_count": 7,
     "metadata": {},
     "output_type": "execute_result"
    }
   ],
   "source": [
    "sample3 = stats.norm.rvs(loc = mean, scale = standard_devaition, size = sample_size[2])\n",
    "sample3"
   ]
  },
  {
   "cell_type": "code",
   "execution_count": 8,
   "metadata": {},
   "outputs": [
    {
     "name": "stdout",
     "output_type": "stream",
     "text": [
      "5000\n"
     ]
    }
   ],
   "source": [
    "sample4 = stats.norm.rvs(loc = mean, scale = standard_devaition, size = sample_size[3])\n",
    "print(len(sample4))"
   ]
  },
  {
   "cell_type": "code",
   "execution_count": null,
   "metadata": {},
   "outputs": [],
   "source": []
  },
  {
   "cell_type": "markdown",
   "metadata": {},
   "source": [
    "#### Step 2: Plot normal distributions.\n",
    "\n",
    "To check the shape of the samples you have just created, you can use matplotlib. For example, you can use it to plot a histogram of each sample. \n",
    "\n",
    "If you did, your outputs would be really similar to the ones below:\n",
    "\n",
    "![normal distributions with different sample sizes](../images/ch-1.png)"
   ]
  },
  {
   "cell_type": "code",
   "execution_count": 9,
   "metadata": {},
   "outputs": [
    {
     "data": {
      "image/png": "[encoded data removed]",
      "text/plain": [
       "<Figure size 720x360 with 4 Axes>"
      ]
     },
     "metadata": {
      "needs_background": "light"
     },
     "output_type": "display_data"
    }
   ],
   "source": [
    "fig, [ax1, ax2, ax3, ax4] = plt.subplots(1,4)\n",
    "fig.set_figheight(5)\n",
    "fig.set_figwidth(10)\n",
    "\n",
    "ax1.hist(sample1,bins=20)\n",
    "ax1.set_title('n=10')\n",
    "\n",
    "ax2.hist(sample2,bins=20)\n",
    "ax2.set_title('n=50')\n",
    "\n",
    "ax3.hist(sample3,bins=20)\n",
    "ax3.set_title('n=500')\n",
    "\n",
    "ax4.hist(sample4,bins=20)\n",
    "ax4.set_title('n=5000')\n",
    "\n",
    "plt.show()"
   ]
  },
  {
   "cell_type": "markdown",
   "metadata": {},
   "source": [
    "#### Compare the distributions above. What do you observe? Explain with the Central Limit Theorem."
   ]
  },
  {
   "cell_type": "code",
   "execution_count": 10,
   "metadata": {},
   "outputs": [
    {
     "name": "stdout",
     "output_type": "stream",
     "text": [
      "The Central Limit Theorem states that for the pupulation with the unknows distribution the means of sample from that population have a normal distribution\n"
     ]
    }
   ],
   "source": [
    "\n",
    "#WIth the increasing sample size, the distribution of the sample is approching normal distribution. \n",
    "\n",
    "print('The Central Limit Theorem states that for the pupulation with the unknows distribution the means of sample from that population have a normal distribution')"
   ]
  },
  {
   "cell_type": "markdown",
   "metadata": {},
   "source": [
    "#### Bonus: Plot normal distributions.\n",
    "\n",
    "Even though you still don't know how to use matplotlib, as a bonus challenge, you can try to reproduce the plot above using the samples you have created. This plotting library will be introduced later this week, so don't worry if you don't manage to get the results you want now: you can always come back to solve this challenge later."
   ]
  },
  {
   "cell_type": "code",
   "execution_count": 11,
   "metadata": {},
   "outputs": [
    {
     "data": {
      "image/png": "[encoded data removed]",
      "text/plain": [
       "<Figure size 432x288 with 1 Axes>"
      ]
     },
     "metadata": {
      "needs_background": "light"
     },
     "output_type": "display_data"
    }
   ],
   "source": [
    "# your code here\n",
    "sample4.sort()\n",
    "mean_s4 = statistics.mean(sample4)\n",
    "std_s4 = statistics.stdev(sample4)\n",
    "plt.plot(sample4, stats.norm.pdf(sample4, mean, standard_devaition))\n",
    "plt.show()"
   ]
  },
  {
   "cell_type": "markdown",
   "metadata": {},
   "source": [
    "# Challenge 2 - Plot Probability Mass Function (PMF)"
   ]
  },
  {
   "cell_type": "markdown",
   "metadata": {},
   "source": [
    "### Background knowledge\n",
    "\n",
    "[PMF](https://en.wikipedia.org/wiki/Probability_mass_function) shows the probability distribution of a **discrete random variable**. A [discrete random variable](https://en.wikipedia.org/wiki/Random_variable#Discrete_random_variable) has random numeric values that are not continuous. For example, the number of people in a household can only be integers but not floats. Therefore the number of people in a household is a discrete variable.\n",
    "\n",
    "### Challenge\n",
    "\n",
    "We assume that the probability of clicking an advertisement in a Youtube video is 0.15. We have a sample of 5 people who watched the video and we want to plot the PMF for a binomial distribution.\n",
    "\n",
    "#### Step 1: Create the binomial distribution mentioned above. Store the result in a variable called `dist`. \n",
    "**Hint**: use binom from `scipy.stats.binom`. This object takes *n* and *p* as shape parameters, where *n* is the number of independent experiments and *p* the probability of success of the experiment."
   ]
  },
  {
   "cell_type": "code",
   "execution_count": 15,
   "metadata": {},
   "outputs": [],
   "source": [
    "# your code here\n",
    "n=5\n",
    "p=0.15\n",
    "dist= stats.binom(n=5, p=0.15)"
   ]
  },
  {
   "cell_type": "markdown",
   "metadata": {},
   "source": [
    "#### Step 2: Plot the PMF of the distribution. \n",
    "To do it, run the code in the cell below. \n",
    "\n",
    "**Hint**: Your output should look like the one below:\n",
    "\n",
    "![binom 10](../images/ch-2.png)"
   ]
  },
  {
   "cell_type": "code",
   "execution_count": 16,
   "metadata": {},
   "outputs": [
    {
     "data": {
      "image/png": "[encoded data removed]",
      "text/plain": [
       "<Figure size 432x288 with 1 Axes>"
      ]
     },
     "metadata": {
      "needs_background": "light"
     },
     "output_type": "display_data"
    }
   ],
   "source": [
    "# run this code\n",
    "x = range(n)\n",
    "\n",
    "fig, ax = plt.subplots(1, 1)\n",
    "\n",
    "plt.plot(x, dist.pmf(x))\n",
    "\n",
    "plt.show()"
   ]
  },
  {
   "cell_type": "markdown",
   "metadata": {},
   "source": [
    "#### Step 3: Explain what you observe from the plot above."
   ]
  },
  {
   "cell_type": "code",
   "execution_count": 17,
   "metadata": {},
   "outputs": [
    {
     "data": {
      "text/plain": [
       "'\\nyour comments here\\n'"
      ]
     },
     "execution_count": 17,
     "metadata": {},
     "output_type": "execute_result"
    }
   ],
   "source": [
    "\"\"\"\n",
    "your comments here\n",
    "\"\"\""
   ]
  },
  {
   "cell_type": "markdown",
   "metadata": {},
   "source": [
    "#### Step 4: Now plot PMF with 50, 500, and 5000 visitors.\n",
    "To plot the PMF, you can copy the code given above and replace variable `dist` for the name of the variables where you have stored the new binomial objects for 50, 500 and 5000 visitors."
   ]
  },
  {
   "cell_type": "code",
   "execution_count": 18,
   "metadata": {},
   "outputs": [
    {
     "name": "stderr",
     "output_type": "stream",
     "text": [
      "C:\\Users\\osile\\anaconda3\\lib\\site-packages\\scipy\\stats\\_discrete_distns.py:67: RuntimeWarning: divide by zero encountered in _binom_pdf\n",
      "  return _boost._binom_pdf(x, n, p)\n"
     ]
    },
    {
     "data": {
      "text/plain": [
       "Text(0.5, 1.0, 'n=5000')"
      ]
     },
     "execution_count": 18,
     "metadata": {},
     "output_type": "execute_result"
    },
    {
     "data": {
      "image/png": "[encoded data removed]",
      "text/plain": [
       "<Figure size 1152x360 with 4 Axes>"
      ]
     },
     "metadata": {
      "needs_background": "light"
     },
     "output_type": "display_data"
    }
   ],
   "source": [
    "# your code here\n",
    "n1, n2, n3, n4 = 5, 50, 500, 5000\n",
    "dist1=stats.binom(n=n1, p=0.15)\n",
    "dist2=stats.binom(n=n2, p=0.15)\n",
    "dist3=stats.binom(n=n3, p=0.15)\n",
    "dist4=stats.binom(n=n4, p=0.15)\n",
    "\n",
    "x1, x2, x3, x4 = range(n1), range(n2), range(n3), range(n4)\n",
    "\n",
    "fig, [ax1, ax2,ax3, ax4] = plt.subplots(1, 4)\n",
    "\n",
    "fig.set_figheight(5)\n",
    "fig.set_figwidth(16)\n",
    "\n",
    "ax1.plot(x1, dist1.pmf(x1))\n",
    "ax1.set_title('n=5')\n",
    "\n",
    "ax2.plot(x2, dist2.pmf(x2))\n",
    "ax2.set_title('n=50')\n",
    "\n",
    "ax3.plot(x3, dist3.pmf(x3))\n",
    "ax3.set_title('n=500')\n",
    "\n",
    "ax4.plot(x4, dist4.pmf(x4))\n",
    "ax4.set_title('n=5000')"
   ]
  },
  {
   "cell_type": "markdown",
   "metadata": {},
   "source": [
    "#### Step 5: What did you notice from the distribution plots? Comment your findings."
   ]
  },
  {
   "cell_type": "code",
   "execution_count": 19,
   "metadata": {},
   "outputs": [
    {
     "data": {
      "text/plain": [
       "'\\nyour comments here\\n'"
      ]
     },
     "execution_count": 19,
     "metadata": {},
     "output_type": "execute_result"
    }
   ],
   "source": [
    "\"\"\"\n",
    "your comments here\n",
    "\"\"\""
   ]
  },
  {
   "cell_type": "markdown",
   "metadata": {},
   "source": [
    "# Challenge 3\n",
    "#### Step 1: Research the Poisson distribution. Write about your own understanding of the Poisson distribution."
   ]
  },
  {
   "cell_type": "code",
   "execution_count": 20,
   "metadata": {},
   "outputs": [
    {
     "data": {
      "text/plain": [
       "'\\nyour comments here\\n'"
      ]
     },
     "execution_count": 20,
     "metadata": {},
     "output_type": "execute_result"
    }
   ],
   "source": [
    "\"\"\"\n",
    "your comments here\n",
    "\"\"\""
   ]
  },
  {
   "cell_type": "markdown",
   "metadata": {},
   "source": [
    "#### Step 2: A website has an average of 300 visits per day. What is the probability of getting 320 visitors in a day?\n",
    "\n",
    "**Hint**: use `scipy.stats.poisson.pmf`."
   ]
  },
  {
   "cell_type": "code",
   "execution_count": 21,
   "metadata": {},
   "outputs": [
    {
     "data": {
      "text/plain": [
       "0.011612348610402475"
      ]
     },
     "execution_count": 21,
     "metadata": {},
     "output_type": "execute_result"
    }
   ],
   "source": [
    "# your code here\n",
    "visits = 320\n",
    "mu =300\n",
    "stats.poisson.pmf(visits,mu)"
   ]
  },
  {
   "cell_type": "markdown",
   "metadata": {},
   "source": [
    "#### Step 3: What is the probability of getting 60 visits?"
   ]
  },
  {
   "cell_type": "code",
   "execution_count": 22,
   "metadata": {},
   "outputs": [
    {
     "data": {
      "text/plain": [
       "2.622743762294515e-64"
      ]
     },
     "execution_count": 22,
     "metadata": {},
     "output_type": "execute_result"
    }
   ],
   "source": [
    "# your code here\n",
    "visits = 60\n",
    "mu =300\n",
    "stats.poisson.pmf(visits,mu)"
   ]
  },
  {
   "cell_type": "markdown",
   "metadata": {},
   "source": [
    "#### Step 4: Create a list to store the Poisson distribution probabilities for 0 to 1000 visitors. Store your list in a variable called `arr`."
   ]
  },
  {
   "cell_type": "code",
   "execution_count": 23,
   "metadata": {},
   "outputs": [],
   "source": [
    "# your code here\n",
    "arr = []\n",
    "mu = 300\n",
    "for num in range(1001):\n",
    "\tarr.append(stats.poisson.pmf(num,mu))"
   ]
  },
  {
   "cell_type": "markdown",
   "metadata": {},
   "source": [
    "#### Step 5: Plot the probabilities.\n",
    "To do it, run the code in the cell below. Your plot should look like the one below:\n",
    "\n",
    "![poisson distribution](../images/ch-3.png)"
   ]
  },
  {
   "cell_type": "code",
   "execution_count": 24,
   "metadata": {},
   "outputs": [
    {
     "data": {
      "image/png": "[encoded data removed]",
      "text/plain": [
       "<Figure size 432x288 with 1 Axes>"
      ]
     },
     "metadata": {
      "needs_background": "light"
     },
     "output_type": "display_data"
    }
   ],
   "source": [
    "# run this code\n",
    "plt.plot(arr)\n",
    "plt.show()"
   ]
  },
  {
   "cell_type": "markdown",
   "metadata": {},
   "source": [
    "# Challenge 4 - Central Limit Theorem\n",
    "\n",
    "A delivery company needs 35 minutes to deliver a package, with a standard deviation of 8 minutes. Suppose that in one day, they deliver 200 packages.\n",
    "\n",
    "**Hint**: `stats.norm.cdf` can help you find the answers.\n",
    "\n",
    "#### Step 1: What is the probability that the mean delivery time today is between 30 and 35 minutes?"
   ]
  },
  {
   "cell_type": "code",
   "execution_count": 25,
   "metadata": {},
   "outputs": [
    {
     "data": {
      "text/plain": [
       "0.23401447095129946"
      ]
     },
     "execution_count": 25,
     "metadata": {},
     "output_type": "execute_result"
    }
   ],
   "source": [
    "# your code here\n",
    "mean = 35 \n",
    "stdev = 8\n",
    "n = 200\n",
    "stats.norm.cdf(35, loc=mean, scale=stdev) - stats.norm.cdf(30, loc=mean, scale=stdev)"
   ]
  },
  {
   "cell_type": "markdown",
   "metadata": {},
   "source": [
    "#### Step 2: What is the probability that in total, it takes more than 115 hours to deliver all 200 packages?"
   ]
  },
  {
   "cell_type": "code",
   "execution_count": 26,
   "metadata": {},
   "outputs": [
    {
     "data": {
      "text/plain": [
       "34.5"
      ]
     },
     "execution_count": 26,
     "metadata": {},
     "output_type": "execute_result"
    }
   ],
   "source": [
    "# your code here\n",
    "115*60/200"
   ]
  },
  {
   "cell_type": "markdown",
   "metadata": {},
   "source": [
    "# Challenge 5 - Normal Variables\n",
    "The value (in thousands) of the monthly sales of a publishing company follows a normal distribution with a mean equal to 200 and a standard deviation equal to 40.\n",
    "\n",
    "<div align=\"center\">$X → N(200,40)$</div>\n",
    "\n",
    "**Hint**: `stats.norm.cdf` can help you find the answers.\n",
    "\n",
    "#### Step 1: Find the probability that the monthly sales are more than 300."
   ]
  },
  {
   "cell_type": "code",
   "execution_count": 27,
   "metadata": {},
   "outputs": [
    {
     "data": {
      "text/plain": [
       "0.006209665325776159"
      ]
     },
     "execution_count": 27,
     "metadata": {},
     "output_type": "execute_result"
    }
   ],
   "source": [
    "# your code here\n",
    "1-stats.norm.cdf(300, loc=200, scale=40)"
   ]
  },
  {
   "cell_type": "markdown",
   "metadata": {},
   "source": [
    "#### Step 2: Find the probability that the monthly sales fall between 160 and 240."
   ]
  },
  {
   "cell_type": "code",
   "execution_count": 28,
   "metadata": {},
   "outputs": [
    {
     "data": {
      "text/plain": [
       "0.6826894921370859"
      ]
     },
     "execution_count": 28,
     "metadata": {},
     "output_type": "execute_result"
    }
   ],
   "source": [
    "# your code here\n",
    "stats.norm.cdf(240, loc=200, scale=40)-stats.norm.cdf(160, loc=200, scale=40)"
   ]
  },
  {
   "cell_type": "markdown",
   "metadata": {},
   "source": [
    "#### Step 3: Find the probability that the monthly sales do not exceed 150."
   ]
  },
  {
   "cell_type": "code",
   "execution_count": 29,
   "metadata": {},
   "outputs": [
    {
     "data": {
      "text/plain": [
       "0.10564977366685535"
      ]
     },
     "execution_count": 29,
     "metadata": {},
     "output_type": "execute_result"
    }
   ],
   "source": [
    "# your code here\n",
    "stats.norm.cdf(150, loc=200, scale=40)"
   ]
  },
  {
   "cell_type": "markdown",
   "metadata": {},
   "source": [
    "#### Step 4: Find the probability that the monthly sales exceed 3000."
   ]
  },
  {
   "cell_type": "code",
   "execution_count": 30,
   "metadata": {},
   "outputs": [
    {
     "data": {
      "text/plain": [
       "0.0"
      ]
     },
     "execution_count": 30,
     "metadata": {},
     "output_type": "execute_result"
    }
   ],
   "source": [
    "# your code here\n",
    "1-stats.norm.cdf(3000, loc=200, scale=40)"
   ]
  },
  {
   "cell_type": "markdown",
   "metadata": {},
   "source": [
    "# Challenge 6 - Poisson distribution\n",
    "The mean number of violent robberies per month that are registered in a particular barrio is 4.\n",
    "\n",
    "**Hint**: `stats.poisson.cdf` can help you find the answers.\n",
    "\n",
    "#### Step 1: Find the probability that in a particular month there is no violent robbery."
   ]
  },
  {
   "cell_type": "code",
   "execution_count": 31,
   "metadata": {},
   "outputs": [
    {
     "data": {
      "text/plain": [
       "0.018315638888734182"
      ]
     },
     "execution_count": 31,
     "metadata": {},
     "output_type": "execute_result"
    }
   ],
   "source": [
    "# your code here\n",
    "stats.poisson.cdf(0,4)"
   ]
  },
  {
   "cell_type": "markdown",
   "metadata": {},
   "source": [
    "#### Step 2: Find the probability that there are at least 1 robbery in a given month."
   ]
  },
  {
   "cell_type": "code",
   "execution_count": 32,
   "metadata": {},
   "outputs": [
    {
     "data": {
      "text/plain": [
       "0.9084218055563291"
      ]
     },
     "execution_count": 32,
     "metadata": {},
     "output_type": "execute_result"
    }
   ],
   "source": [
    "# your code here\n",
    "1-stats.poisson.cdf(1,4)"
   ]
  },
  {
   "cell_type": "markdown",
   "metadata": {},
   "source": [
    "#### Step 3: Find the probability that there are between 2 and 6 (inclusive) robberies in a given month."
   ]
  },
  {
   "cell_type": "code",
   "execution_count": 33,
   "metadata": {},
   "outputs": [
    {
     "data": {
      "text/plain": [
       "0.6512227160438819"
      ]
     },
     "execution_count": 33,
     "metadata": {},
     "output_type": "execute_result"
    }
   ],
   "source": [
    "# your code here\n",
    "stats.poisson.cdf(6,4)-stats.poisson.cdf(2,4)"
   ]
  },
  {
   "cell_type": "markdown",
   "metadata": {},
   "source": [
    "#### Step 4: Find the probability that there are more than 2 robberies in 15 days."
   ]
  },
  {
   "cell_type": "code",
   "execution_count": 34,
   "metadata": {},
   "outputs": [
    {
     "data": {
      "text/plain": [
       "0.3711630648201266"
      ]
     },
     "execution_count": 34,
     "metadata": {},
     "output_type": "execute_result"
    }
   ],
   "source": [
    "# your code here\n",
    "#2 robberies in 15 days means 4 robberies in a month\n",
    "1-stats.poisson.cdf(4,4)"
   ]
  }
 ],
 "metadata": {
  "anaconda-cloud": {},
  "kernelspec": {
   "display_name": "Python 3 (ipykernel)",
   "language": "python",
   "name": "python3"
  },
  "language_info": {
   "codemirror_mode": {
    "name": "ipython",
    "version": 3
   },
   "file_extension": ".py",
   "mimetype": "text/x-python",
   "name": "python",
   "nbconvert_exporter": "python",
   "pygments_lexer": "ipython3",
   "version": "3.9.12"
  }
 },
 "nbformat": 4,
 "nbformat_minor": 1
}
